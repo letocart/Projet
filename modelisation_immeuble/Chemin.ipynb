{
 "cells": [
  {
   "cell_type": "code",
   "execution_count": 18,
   "id": "parliamentary-authentication",
   "metadata": {},
   "outputs": [
    {
     "name": "stderr",
     "output_type": "stream",
     "text": [
      "┌ Info: Precompiling GLPK [60bf3e95-4087-53dc-ae20-288a0d20c6a6]\n",
      "└ @ Base loading.jl:1278\n"
     ]
    },
    {
     "data": {
      "text/plain": [
       "resolve (generic function with 1 method)"
      ]
     },
     "execution_count": 18,
     "metadata": {},
     "output_type": "execute_result"
    }
   ],
   "source": [
    "# Librairies à importer pour utiliser JuMP avec le solver GLPK\n",
    "using JuMP\n",
    "using GLPK\n",
    "\n",
    "# Définition de constantes pour le statut de résolution du problème\n",
    "const OPTIMAL = JuMP.MathOptInterface.OPTIMAL\n",
    "const INFEASIBLE = JuMP.MathOptInterface.INFEASIBLE\n",
    "const UNBOUNDED = JuMP.MathOptInterface.DUAL_INFEASIBLE;\n",
    "\n",
    "function resolve()\n",
    "    \n",
    "    V = [0.0 0.0; 0.0 4.0; 2.0 2.0; 4.0 0.0; 4.0 4.0]\n",
    "    E = [1 2; 1 3; 1 4; 2 3; 2 5; 3 4; 3 5; 4 5]\n",
    "    Terminals = [1 5]\n",
    "    Obligatory = [2]\n",
    "    \n",
    "    nE = length(E[:, 1])\n",
    "    nTerminals = length(Terminals)\n",
    "    nObligatory = length(Obligatory)\n",
    "    \n",
    "    Distance = zeros(Float64, n)\n",
    "    for i in 1:nE\n",
    "        Distance[i] = hypot(V[E[i, 1], 1] - V[E[i, 2], 1], V[E[i, 1], 2] - V[E[i, 2], 2]) \n",
    "    end\n",
    "    \n",
    "    \n",
    "    # Création d'un modèle. Ce modèle fera l'interface avec le solveur GLPK\n",
    "    m = Model(with_optimizer(GLPK.Optimizer))\n",
    "\n",
    "    # Création des variables : C[i] = 1 si on utilise l'arete i dans le chemin\n",
    "    @variable(m, Edge[1:n], Bin)\n",
    "    # Fonction objectif\n",
    "    @variable(m, Vertex[1:k], Bin)\n",
    "    @objective(m, Min, sum(Edge .* Distance))\n",
    "    #Création des contraintes\n",
    "    for i in 1:nTerminals\n",
    "        @constraint(m, Vertex[Terminals[i]] == 1)\n",
    "    end\n",
    "    for i in 1:nObligatory\n",
    "        @constraint(m, Vertex[Obligatory[i]] == 1)\n",
    "    end\n",
    "    for i in 1:nE\n",
    "        @constraint(m, sum(Edge[i] == Vertex[E[i, 1]])\n",
    "        @constraint(m, Edge[i] == Vertex[E[i, 2]])\n",
    "    end\n",
    "    #Affichage du modèle\n",
    "    print(m)\n",
    "\n",
    "    #Résolution du problème d'optimisation linéaire m par le solveur GLPK\n",
    "    optimize!(m)\n",
    "\n",
    "    status = termination_status(m)\n",
    "\n",
    "    if status == INFEASIBLE\n",
    "        println(\"Le problème n'est pas réalisable\")\n",
    "    elseif status == UNBOUNDED\n",
    "        println(\"Le problème est non borné\")\n",
    "    elseif status == OPTIMAL\n",
    "        println(\"Optimum = \", JuMP.objective_value(m))\n",
    "        println(\"Solution optimale :\")\n",
    "\n",
    " \n",
    "    else\n",
    "        println(\"Problème lors de la résolution\")\n",
    "    end\n",
    "end"
   ]
  },
  {
   "cell_type": "code",
   "execution_count": 24,
   "id": "electoral-conducting",
   "metadata": {},
   "outputs": [
    {
     "data": {
      "text/plain": [
       "poid (generic function with 1 method)"
      ]
     },
     "execution_count": 24,
     "metadata": {},
     "output_type": "execute_result"
    }
   ],
   "source": [
    "function poid(V, G)\n",
    "    x = length(G[1,:])\n",
    "    y = length(G[:,1])\n",
    "    s = 0.0\n",
    "    for i in 1:x\n",
    "        for j in x+1:y\n",
    "            if (G[i, j] == 1)\n",
    "                s = s + hypot(V[i, 1] - V[j, 1], V[i, 2] - V[j, 2]) \n",
    "            end\n",
    "        end\n",
    "    end\n",
    "    return s\n",
    "end"
   ]
  },
  {
   "cell_type": "code",
   "execution_count": 53,
   "id": "laughing-forum",
   "metadata": {
    "scrolled": false
   },
   "outputs": [
    {
     "ename": "LoadError",
     "evalue": "syntax: unexpected \")\"",
     "output_type": "error",
     "traceback": [
      "syntax: unexpected \")\"",
      "",
      "Stacktrace:",
      " [1] top-level scope at In[53]:31",
      " [2] include_string(::Function, ::Module, ::String, ::String) at .\\loading.jl:1091"
     ]
    }
   ],
   "source": [
    "# Librairies à importer pour utiliser JuMP avec le solver GLPK\n",
    "using JuMP\n",
    "using GLPK\n",
    "\n",
    "# Définition de constantes pour le statut de résolution du problème\n",
    "const OPTIMAL = JuMP.MathOptInterface.OPTIMAL\n",
    "const INFEASIBLE = JuMP.MathOptInterface.INFEASIBLE\n",
    "const UNBOUNDED = JuMP.MathOptInterface.DUAL_INFEASIBLE;\n",
    "\n",
    "\n",
    "function resolve()\n",
    "    \n",
    "    V = [0.0 0.0; 0.0 4.0; 2.0 2.0; 4.0 0.0; 4.0 4.0]\n",
    "    S = [2 0 1 0 2]\n",
    "    G = [0 1 1 1 0;\n",
    "         1 0 1 0 1;\n",
    "         1 1 0 1 1;\n",
    "         1 0 1 0 1;\n",
    "         0 1 1 1 0]  \n",
    "    \n",
    "    #hauteur et largeur de la matrice d'adjacence\n",
    "    x = length(G[:,1])\n",
    "    y = length(G[1,:])\n",
    "    \n",
    "    # Création d'un modèle. Ce modèle fera l'interface avec le solveur GLPK\n",
    "    m = Model(with_optimizer(GLPK.Optimizer))\n",
    "\n",
    "    # Création des variables : C[i] = 1 si on utilise l'arete i dans le chemin\n",
    "    @variable(m, R[1:y,1:x], Int)\n",
    "    # Fonction objectif\n",
    "    @objective(m, Min, sum(hypot((V[i, 1] - V[j, 1], V[i, 2] - V[j, 2])) * G[i, j] ./ 2 for i in 1:x, for j in 1:y)\n",
    "    #Création des contraintes\n",
    "    \n",
    "    #existence des aretes utilisées\n",
    "    for i in 1:x\n",
    "        for j in 1:y\n",
    "            if (G[j, i] == 0)\n",
    "                @constraint(m, R[j, i] == 0)    \n",
    "            end\n",
    "        end\n",
    "    end\n",
    "\n",
    " \n",
    "    for i in 1:x\n",
    "        #sommets terminaux\n",
    "        if (S[i] == 2)\n",
    "            @constraint(m, sum(R[i, :]) == 1)\n",
    "        end\n",
    "        if (S[i] == 1)\n",
    "            @constraint(m, sum(R[i, :]) == 2)\n",
    "        end\n",
    "        if (S[i] == 0)\n",
    "            @constraint(m, sum(R[i, :]) == 2)\n",
    "        end\n",
    "    end\n",
    "\n",
    "    #Affichage du modèle\n",
    "    print(m)\n",
    "\n",
    "    #Résolution du problème d'optimisation linéaire m par le solveur GLPK\n",
    "    optimize!(m)\n",
    "\n",
    "    status = termination_status(m)\n",
    "\n",
    "    if status == INFEASIBLE\n",
    "        println(\"Le problème n'est pas réalisable\")\n",
    "    elseif status == UNBOUNDED\n",
    "        println(\"Le problème est non borné\")\n",
    "    elseif status == OPTIMAL\n",
    "        println(\"Optimum = \", JuMP.objective_value(m))\n",
    "        println(\"Solution optimale :\")\n",
    "    else\n",
    "        println(\"Problème lors de la résolution\")\n",
    "    end\n",
    "end\n",
    "resolve()"
   ]
  },
  {
   "cell_type": "code",
   "execution_count": 40,
   "id": "cardiac-hughes",
   "metadata": {},
   "outputs": [
    {
     "name": "stdout",
     "output_type": "stream",
     "text": [
      "[0, 1, 0, 0, 0]\n",
      "8.0\n"
     ]
    }
   ],
   "source": [
    "V = [0.0 0.0; 0.0 4.0; 2.0 2.0; 4.0 0.0; 4.0 4.0]\n",
    "E= [0 1 0 0 0;\n",
    "    1 0 0 0 1;\n",
    "    0 0 0 0 0;\n",
    "    0 0 0 0 0;\n",
    "    0 1 0 0 0]\n"
   ]
  },
  {
   "cell_type": "code",
   "execution_count": null,
   "id": "cardiovascular-egypt",
   "metadata": {},
   "outputs": [],
   "source": []
  }
 ],
 "metadata": {
  "kernelspec": {
   "display_name": "Julia 1.5.3",
   "language": "julia",
   "name": "julia-1.5"
  },
  "language_info": {
   "file_extension": ".jl",
   "mimetype": "application/julia",
   "name": "julia",
   "version": "1.5.3"
  }
 },
 "nbformat": 4,
 "nbformat_minor": 5
}
