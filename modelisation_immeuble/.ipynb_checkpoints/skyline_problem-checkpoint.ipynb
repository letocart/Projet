{
 "cells": [
  {
   "cell_type": "markdown",
   "metadata": {},
   "source": [
    "Modélisation du problème de \"construction d'immeubles\"\n",
    "\n",
    "Les données:\n",
    "* m le nombre d'immeubles\n",
    "* n le nombre de clients\n",
    "* pour i allant de 1 à n\n",
    "* p_i nombres d'étages voulant être occupés par le client i\n",
    "* g_i le gain rapporté par le client i\n",
    "* K la taille max d'un immeuble (somme des demandes d'étages)\n",
    "* pour j allant de 0 à K\n",
    "* P_j le prix de construction de chaque étage ~~le prix de l'immeuble s'il est de taille j~~"
   ]
  },
  {
   "cell_type": "code",
   "execution_count": 2,
   "metadata": {},
   "outputs": [],
   "source": [
    "# Librairies à importer pour utiliser JuMP avec le solver GLPK\n",
    "using JuMP\n",
    "using GLPK\n",
    "\n",
    "# Définition de constantes pour le statut de résolution du problème\n",
    "const OPTIMAL = JuMP.MathOptInterface.OPTIMAL\n",
    "const INFEASIBLE = JuMP.MathOptInterface.INFEASIBLE\n",
    "const UNBOUNDED = JuMP.MathOptInterface.DUAL_INFEASIBLE;\n"
   ]
  },
  {
   "cell_type": "code",
   "execution_count": 54,
   "metadata": {},
   "outputs": [
    {
     "data": {
      "text/plain": [
       "skyline_problem (generic function with 1 method)"
      ]
     },
     "execution_count": 54,
     "metadata": {},
     "output_type": "execute_result"
    }
   ],
   "source": [
    "#PLNE du problème général\n",
    "#version avec toutes les données en argument\n",
    "\n",
    "function skyline_problem(buildings_number,clients_number\n",
    "        ,clients_floors,client_gains,building_max_size,floor_prices)\n",
    "\n",
    "\n",
    "    # Création d'un modèle. Ce modèle fera l'interface avec le solveur GLPK\n",
    "    model = Model(with_optimizer(GLPK.Optimizer))\n",
    "\n",
    "    # Création des variables :\n",
    "    \n",
    "    # la demande du client i est attribué à l'immeuble l: \n",
    "    # variable binaire A[i,l] = clients_floors[i] si oui, 0 sinon\n",
    "    @variable(model,0<=A[1:clients_number,1:buildings_number],Int)\n",
    "    \n",
    "    # l'immeuble l a k étages\n",
    "    # créés pour faciliter l'écriture de la fonction objective\n",
    "    # variable binaire B[k,l] = 1 si l'étage k de l'immeuble l est construit, 0 sinon\n",
    "    # plusieurs écritures ont été testés pour B[l] variable entière mais la fonction objective n'accepte pas\n",
    "    # sum(floor_prices[B[l]] for l in 1:buildings_numbers), somme indicés par une variable\n",
    "    @variable(model,B[1:building_max_size,1:buildings_number],Bin) \n",
    "    \n",
    "    # Fonction objectif\n",
    "    @objective(model, Max, \n",
    "        sum(clients_gains[i].*(A[i,l]÷clients_floors[i]) for i in 1:clients_number for l in 1:buildings_number) #somme des gains\n",
    "        -\n",
    "        sum(floor_prices[k].*B[k,l] for k in 1:building_max_size for l in 1:buildings_number)) #somme des prix des immeubles\n",
    "\n",
    "    #Création des contraintes\n",
    "\n",
    "    #contrainte : chaque client ne peut être attribué qu'à au plus 1 immeuble\n",
    "    for i in 1:clients_number\n",
    "        @constraint(model,sum(A[i,:]÷clients_floors[i]) <= 1)\n",
    "    end\n",
    "\n",
    "    #contrainte sur la taille des immeubles\n",
    "    for l in 1:buildings_number\n",
    "        @constraint(model,sum(A[:,l]) ==  sum(B[:,l]))\n",
    "    end\n",
    "\n",
    "    #Affichage du modèle\n",
    "    print(model)\n",
    "\n",
    "    #Résolution du problème d'optimisation linéaire m par le solveur GLPK\n",
    "    optimize!(model)\n",
    "\n",
    "    status = termination_status(model)\n",
    "\n",
    "    if status == INFEASIBLE\n",
    "        println(\"Le problème n'est pas réalisable\")\n",
    "    elseif status == UNBOUNDED\n",
    "        println(\"Le problème est non borné\")\n",
    "    elseif status == OPTIMAL\n",
    "        println(\"Optimum = \", JuMP.objective_value(model))\n",
    "        println(\"Solution optimale :\")\n",
    "        println(\"A = \",JuMP.value.(A))\n",
    "        println(\"B = \",JuMP.value(B))\n",
    "    end\n",
    "end"
   ]
  },
  {
   "cell_type": "code",
   "execution_count": 55,
   "metadata": {},
   "outputs": [
    {
     "ename": "LoadError",
     "evalue": "ArgumentError: invalid index: B[1] of type VariableRef",
     "output_type": "error",
     "traceback": [
      "ArgumentError: invalid index: B[1] of type VariableRef",
      "",
      "Stacktrace:",
      " [1] to_index(::VariableRef) at .\\indices.jl:297",
      " [2] to_index(::Array{Int64,2}, ::VariableRef) at .\\indices.jl:274",
      " [3] to_indices at .\\indices.jl:325 [inlined]",
      " [4] to_indices at .\\indices.jl:322 [inlined]",
      " [5] getindex at .\\abstractarray.jl:1060 [inlined]",
      " [6] calculate(::Array{Int64,2}, ::VariableRef) at .\\In[55]:11",
      " [7] macro expansion at C:\\Users\\trira\\.julia\\packages\\JuMP\\ibcEh\\src\\parse_expr.jl:358 [inlined]",
      " [8] macro expansion at C:\\Users\\trira\\.julia\\packages\\JuMP\\ibcEh\\src\\macros.jl:378 [inlined]",
      " [9] skyline_problem(::Int64, ::Int64, ::Array{Int64,2}, ::Array{Int64,2}, ::Int64, ::Array{Int64,2}) at .\\In[54]:25",
      " [10] top-level scope at In[55]:14",
      " [11] include_string(::Function, ::Module, ::String, ::String) at .\\loading.jl:1091"
     ]
    }
   ],
   "source": [
    "#création d'une instance test du jeu:\n",
    "\n",
    "buildings_number = 1\n",
    "clients_number = 4\n",
    "clients_floors = [1 1 3 4]\n",
    "clients_gains = [100 100 300 1000]\n",
    "building_max_size = sum(clients_floors)\n",
    "floor_prices = [0 100 200 400 800 1600 3200 6400 12800]\n",
    "\n",
    "function calculate(floor_prices,floor)\n",
    "    return floor_prices[floor]\n",
    "end\n",
    "\n",
    "skyline_problem(buildings_number,clients_number\n",
    "        ,clients_floors,clients_gains,building_max_size,floor_prices)"
   ]
  },
  {
   "cell_type": "code",
   "execution_count": null,
   "metadata": {},
   "outputs": [],
   "source": []
  }
 ],
 "metadata": {
  "kernelspec": {
   "display_name": "Julia 1.5.3",
   "language": "julia",
   "name": "julia-1.5"
  },
  "language_info": {
   "file_extension": ".jl",
   "mimetype": "application/julia",
   "name": "julia",
   "version": "1.5.3"
  }
 },
 "nbformat": 4,
 "nbformat_minor": 4
}
