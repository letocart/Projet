{
 "cells": [
  {
   "cell_type": "code",
   "execution_count": 24,
   "id": "broadband-cleanup",
   "metadata": {
    "scrolled": false
   },
   "outputs": [
    {
     "data": {
      "text/plain": [
       "resolve (generic function with 1 method)"
      ]
     },
     "execution_count": 24,
     "metadata": {},
     "output_type": "execute_result"
    }
   ],
   "source": [
    "# Library needed to use JuMP with GLPK solver\n",
    "using JuMP\n",
    "using GLPK\n",
    "\n",
    "const OPTIMAL = JuMP.MathOptInterface.OPTIMAL\n",
    "const INFEASIBLE = JuMP.MathOptInterface.INFEASIBLE\n",
    "const UNBOUNDED = JuMP.MathOptInterface.DUAL_INFEASIBLE;\n",
    "\n",
    "#V is the list of all vertexs with their coordinates x, y\n",
    "#S is the list that containt the type of each vertex : \n",
    "#    0 : optionnal stations\n",
    "#    1 : needed stations\n",
    "#    2 : starting station\n",
    "#    3 : arriving station\n",
    "#G is the adjacancy matrix, used to know all edges\n",
    "\n",
    "#the main fonction, that returns a sort of adjacancy matrix (oriented)\n",
    "\n",
    "function resolve(V, S, G)\n",
    "    \n",
    "    #height and width of G\n",
    "    x = length(G[:,1])\n",
    "    y = length(G[1,:])\n",
    "    \n",
    "    #Calculation of distances between vertexs\n",
    "    Distance = zeros(Float64, x, y)\n",
    "    for i in 1:x\n",
    "        for j in 1:y\n",
    "            if (G[i, j] == 0)\n",
    "                Distance[i, j] = 0\n",
    "            else    \n",
    "                Distance[i, j] = hypot(V[i, 1] - V[j, 1], V[i, 2] - V[j, 2])\n",
    "            end\n",
    "        end\n",
    "    end\n",
    "    \n",
    "    #Vstart is the index of the starting station, Vend the index of the ending station. Nbr is the number of needed stations\n",
    "    nbr = 0\n",
    "    Vstart = 1\n",
    "    Vend = 1\n",
    "    for i in 1:x\n",
    "        if (S[i] == 1)\n",
    "            nbr = nbr + 1\n",
    "        end\n",
    "        if (S[i] == 2)\n",
    "            Vstart = i\n",
    "        end\n",
    "        if (S[i] == 3)\n",
    "            Vend = i\n",
    "        end\n",
    "    end\n",
    "    \n",
    "    # Creation of the model\n",
    "    m = Model(with_optimizer(GLPK.Optimizer))\n",
    "\n",
    "    # Creatuion of the result matrix\n",
    "    @variable(m, R[1:y,1:x] >= 0, Int)\n",
    "    # Creation of a matrix that will help us to get rid of the sub-loops\n",
    "    @variable(m, Z[1:y,1:x] >= 0, Int)\n",
    "   \n",
    "    # Objective function\n",
    "    @objective(m, Min, sum(R .* Distance))\n",
    "   \n",
    "    \n",
    "    #the first contraint allows us to only use edges that exist\n",
    "    #the second one makes sure that we can't use the same edge in both direction\n",
    "    for i in 1:x\n",
    "        for j in 1:y\n",
    "            if (G[j, i] == 0)\n",
    "                @constraint(m, R[j, i] == 0)    \n",
    "            elseif (i > j)\n",
    "                @constraint(m, R[j, i] + R[i, j] <= 1)\n",
    "            end\n",
    "        end\n",
    "    end\n",
    "\n",
    "    \n",
    "    for i in 1:x\n",
    "        #starting vertex : we need an edge that come out of the vertex\n",
    "        if (S[i] == 2)\n",
    "            @constraint(m, sum(R[i, :]) == 1)\n",
    "            @constraint(m, sum(R[:, i]) == 0)\n",
    "        #ending vertex : we need an edge that come in the vertex\n",
    "        elseif (S[i] == 3)\n",
    "            @constraint(m, sum(R[:, i]) == 1)\n",
    "            @constraint(m, sum(R[i, :]) == 0)\n",
    "        #needed vertex : we need an edge that come in and an other that come out of the vertex\n",
    "        elseif (S[i] == 1)\n",
    "            @constraint(m, sum(R[:, i]) == 1)\n",
    "            @constraint(m, sum(R[i, :]) == 1)\n",
    "        #steiner vertex : we need an edge that come in AND an edge that come out, if we use it, or nothing\n",
    "        elseif (S[i] == 0)\n",
    "            @constraint(m, sum(R[i, :] - R[:, i]) == 0)\n",
    "            @constraint(m, sum(R[i, :]) <= 1)\n",
    "        end\n",
    "    end\n",
    "\n",
    "    #constraints that help against sub-loops\n",
    " \n",
    "    #to get ride of the sub-loops, we use a flow that starts at the starting vertex, which is equal to the number\n",
    "    #of needed vertex + 1, and we reduce it each times it goes through a needed vertex\n",
    "    #that makes sure that the path will go through each needed vertex\n",
    "    \n",
    "    for i in 1:x\n",
    "        #the flow that goes out of the starting vertex has to be nbr + 1\n",
    "        if (S[i] == 2)\n",
    "            @constraint(m, sum(Z[i, :]) == nbr + 1)\n",
    "        end\n",
    "        #the flow that goes in the ending vertex has to be 1\n",
    "        if (S[i] == 3)\n",
    "            @constraint(m, sum(Z[:, i]) == 1)\n",
    "        end\n",
    "        #the flow that goes out of a needed vertex has to be the flow that arrive at him minus one \n",
    "        if (S[i] == 1)\n",
    "            @constraint(m, sum(Z[i, :]) + 1 == sum(Z[:, i]))\n",
    "        end\n",
    "        #the flow that goes out of a needed vertex has to be same as the flow that arrive at him\n",
    "        if (S[i] == 0)\n",
    "            @constraint(m, sum(Z[i, :]) == sum(Z[:, i]))\n",
    "        end\n",
    "    end\n",
    "    \n",
    "    for i in 1:x\n",
    "        for j in 1:y\n",
    "            if (i != j && j != Vstart)\n",
    "                #we only have flows only in used vertex\n",
    "                @constraint(m, Z[i, j] <= (nbr+1) * (R[i, j]))\n",
    "            end\n",
    "        end\n",
    "    end\n",
    "\n",
    "    #Resolving\n",
    "    optimize!(m)\n",
    "\n",
    "    status = termination_status(m)\n",
    "\n",
    "    if status == INFEASIBLE\n",
    "        println(\"The instance is not resolvable\")\n",
    "    elseif status == UNBOUNDED\n",
    "        println(\"How did you manage to get negative distances?\")\n",
    "    elseif status == OPTIMAL\n",
    "        println(\"Optimum = \", JuMP.objective_value(m))\n",
    "        println(\"Solution :\")\n",
    "        for i in 1:x\n",
    "            for j in 1:y\n",
    "               print(JuMP.value(R[i, j]), \" \")\n",
    "            end\n",
    "            println()\n",
    "        end\n",
    "    else\n",
    "        println(\"Error during resolving\")\n",
    "    end\n",
    "end"
   ]
  },
  {
   "cell_type": "code",
   "execution_count": 25,
   "id": "starting-intensity",
   "metadata": {},
   "outputs": [
    {
     "name": "stdout",
     "output_type": "stream",
     "text": [
      "Optimum = 8.0\n",
      "Solution :\n",
      "0.0 1.0 0.0 0.0 0.0 \n",
      "0.0 0.0 0.0 0.0 1.0 \n",
      "0.0 0.0 0.0 0.0 0.0 \n",
      "0.0 0.0 0.0 0.0 0.0 \n",
      "0.0 0.0 0.0 0.0 0.0 \n"
     ]
    }
   ],
   "source": [
    "V = [0.0 0.0; 0.0 4.0; 2.0 2.0; 4.0 0.0; 4.0 4.0]\n",
    "S = [2 1 0 0 3]\n",
    "G = [0 1 1 1 0;\n",
    "     1 0 1 0 1;\n",
    "     1 1 0 1 1;\n",
    "     1 0 1 0 1;\n",
    "     0 1 1 1 0]\n",
    "resolve(V, S, G)"
   ]
  },
  {
   "cell_type": "code",
   "execution_count": 26,
   "id": "ambient-hundred",
   "metadata": {},
   "outputs": [
    {
     "name": "stdout",
     "output_type": "stream",
     "text": [
      "Optimum = 5.656854249492381\n",
      "Solution :\n",
      "0.0 0.0 1.0 0.0 0.0 \n",
      "0.0 0.0 0.0 0.0 0.0 \n",
      "0.0 0.0 0.0 0.0 1.0 \n",
      "0.0 0.0 0.0 0.0 0.0 \n",
      "0.0 0.0 0.0 0.0 0.0 \n"
     ]
    }
   ],
   "source": [
    "V = [0.0 0.0; 0.0 4.0; 2.0 2.0; 4.0 0.0; 4.0 4.0]\n",
    "S = [2 0 0 0 3]\n",
    "G = [0 1 1 1 0;\n",
    "     1 0 1 0 1;\n",
    "     1 1 0 1 1;\n",
    "     1 0 1 0 1;\n",
    "     0 1 1 1 0]\n",
    "resolve(V, S, G)"
   ]
  },
  {
   "cell_type": "code",
   "execution_count": 27,
   "id": "nearby-sperm",
   "metadata": {},
   "outputs": [
    {
     "name": "stdout",
     "output_type": "stream",
     "text": [
      "Optimum = 8.485281374238571\n",
      "Solution :\n",
      "0.0 1.0 0.0 0.0 0.0 \n",
      "0.0 0.0 1.0 0.0 0.0 \n",
      "0.0 0.0 0.0 1.0 0.0 \n",
      "0.0 0.0 0.0 0.0 1.0 \n",
      "0.0 0.0 0.0 0.0 0.0 \n"
     ]
    }
   ],
   "source": [
    "V = [0.0 0.0; 1.0 1.0; 3.0 3.0; 5.0 5.0; 6.0 6.0]\n",
    "S = [2 0 0 0 3]\n",
    "G = [0 1 0 0 0;\n",
    "     1 0 1 0 0;\n",
    "     0 1 0 1 0;\n",
    "     0 0 1 0 1;\n",
    "     0 0 0 1 0]\n",
    "resolve(V, S, G)"
   ]
  },
  {
   "cell_type": "code",
   "execution_count": 28,
   "id": "insured-masters",
   "metadata": {},
   "outputs": [
    {
     "name": "stdout",
     "output_type": "stream",
     "text": [
      "Optimum = 401.4142135623731\n",
      "Solution :\n",
      "0.0 0.0 0.0 0.0 0.0 0.0 \n",
      "0.0 0.0 1.0 0.0 0.0 0.0 \n",
      "0.0 0.0 0.0 1.0 0.0 0.0 \n",
      "0.0 0.0 0.0 0.0 0.0 0.0 \n",
      "0.0 0.0 0.0 0.0 0.0 1.0 \n",
      "0.0 1.0 0.0 0.0 0.0 0.0 \n"
     ]
    }
   ],
   "source": [
    "V = [202.0 0.0; 200.0 0.0; 2.0 0.0; 0.0 0.0; 1.0 1.0; 201.0 1.0]\n",
    "S = [0 1 0 3 2 1]\n",
    "G = [0 1 0 0 0 1;\n",
    "     1 0 1 0 0 1;\n",
    "     0 1 0 1 1 0;\n",
    "     0 0 1 0 1 0;\n",
    "     0 0 1 1 0 1;\n",
    "     1 1 0 0 1 0]\n",
    "resolve(V, S, G)"
   ]
  },
  {
   "cell_type": "code",
   "execution_count": 29,
   "id": "herbal-break",
   "metadata": {},
   "outputs": [
    {
     "name": "stdout",
     "output_type": "stream",
     "text": [
      "Optimum = 31.03329637837291\n",
      "Solution :\n",
      "0.0 1.0 0.0 0.0 0.0 \n",
      "0.0 0.0 1.0 0.0 0.0 \n",
      "0.0 0.0 0.0 0.0 1.0 \n",
      "0.0 0.0 0.0 0.0 0.0 \n",
      "0.0 0.0 0.0 1.0 0.0 \n"
     ]
    }
   ],
   "source": [
    "V = [0.0 0.0; 1.0 0.0; 1.0 -1.0; 2.0 0.0; 1.0 -15.0]\n",
    "S = [2 1 1 3 0]\n",
    "G = [0 1 0 0 1;\n",
    "     1 0 1 1 1\n",
    "     0 1 0 0 1\n",
    "     0 1 0 0 1\n",
    "     1 1 1 1 0]\n",
    "resolve(V, S, G)"
   ]
  },
  {
   "cell_type": "code",
   "execution_count": null,
   "id": "academic-print",
   "metadata": {},
   "outputs": [],
   "source": []
  }
 ],
 "metadata": {
  "kernelspec": {
   "display_name": "Julia 1.5.3",
   "language": "julia",
   "name": "julia-1.5"
  },
  "language_info": {
   "file_extension": ".jl",
   "mimetype": "application/julia",
   "name": "julia",
   "version": "1.5.3"
  }
 },
 "nbformat": 4,
 "nbformat_minor": 5
}
