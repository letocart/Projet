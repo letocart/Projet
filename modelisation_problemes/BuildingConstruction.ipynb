{
 "cells": [
  {
   "cell_type": "markdown",
   "metadata": {},
   "source": [
    "Skyline probleme model\n",
    "\n",
    "Datas :\n",
    "* m is number of buildings\n",
    "* n is the number of clients\n",
    "* p_i numbers of floor occuped by the client i\n",
    "* g_i benefits given by the client i\n",
    "* K the max floors of each buildings\n",
    "* P_j price of floor j"
   ]
  },
  {
   "cell_type": "code",
   "execution_count": 6,
   "metadata": {},
   "outputs": [],
   "source": [
    "# Librarys\n",
    "using JuMP\n",
    "using GLPK\n",
    "\n",
    "const OPTIMAL = JuMP.MathOptInterface.OPTIMAL\n",
    "const INFEASIBLE = JuMP.MathOptInterface.INFEASIBLE\n",
    "const UNBOUNDED = JuMP.MathOptInterface.DUAL_INFEASIBLE;\n"
   ]
  },
  {
   "cell_type": "code",
   "execution_count": 7,
   "metadata": {},
   "outputs": [
    {
     "data": {
      "text/plain": [
       "skyline_problem (generic function with 1 method)"
      ]
     },
     "execution_count": 7,
     "metadata": {},
     "output_type": "execute_result"
    }
   ],
   "source": [
    "#main function\n",
    "\n",
    "function skyline_problem(buildings_number,clients_number\n",
    "        ,clients_floors,client_gains,building_max_size,floor_prices)\n",
    "\n",
    "\n",
    "    # Creation of the model\n",
    "    model = Model(with_optimizer(GLPK.Optimizer))\n",
    "\n",
    "    # Creation of variables\n",
    "    \n",
    "    # if the client i is in the building l, A[i,l] = 1 , else A[i,l] = 0\n",
    "    @variable(model,A[1:clients_number,1:buildings_number],Bin)\n",
    "    \n",
    "    # if the floor k of the building l is used, B[k,l] = 1, else B[k,l] = 0\n",
    "    @variable(model,B[1:building_max_size,1:buildings_number],Bin) \n",
    "    #variable that will countain the number of floor used on each buildings (integer)\n",
    "    @variable(model,0<=B_Bis[1:buildings_number]<=building_max_size,Int)\n",
    "    #-B_Bis makes the link between the two other\n",
    "    \n",
    "    # objective function\n",
    "    @objective(model, Max, \n",
    "        sum(clients_gains[i].*A[i,l] for i in 1:clients_number for l in 1:buildings_number) #sum of benefits\n",
    "        -\n",
    "        sum(floor_prices[k].*B[k,l] for k in 1:building_max_size for l in 1:buildings_number)) #sum of buildings price\n",
    "\n",
    "    #Constraints\n",
    "\n",
    "    #Each client can be in only one building\n",
    "    for i in 1:clients_number\n",
    "        @constraint(model,sum(A[i,:]) <= 1)\n",
    "    end\n",
    "    \n",
    "    #Constraints on the size of buildings\n",
    "    \n",
    "    for l in 1:buildings_number\n",
    "        #link B_Bis, the size of buildings, and B, attribution of floors\n",
    "        @constraint(model,B_Bis[l]==sum(B[k,l] for k in 1:building_max_size))\n",
    "        #we can't build a floor if the floor under isn't built\n",
    "        for k in 1:building_max_size-1\n",
    "            @constraint(model,B[k,l]>=B[k+1,l])\n",
    "        end\n",
    "        #link B_Bis, the size of buildings and the askings of clients\n",
    "        @constraint(model,B_Bis[l]==sum(clients_floors[i].*A[i,l] for i in 1:clients_number))\n",
    "    end\n",
    "\n",
    "    #Resolving\n",
    "    optimize!(model)\n",
    "\n",
    "    status = termination_status(model)\n",
    "\n",
    "    if status == INFEASIBLE\n",
    "        println(\"The problem isn't resolvable\")\n",
    "    elseif status == UNBOUNDED\n",
    "        println(\"the probleme doesn't have borns\")\n",
    "    elseif status == OPTIMAL\n",
    "        println(\"Optimum = \", JuMP.objective_value(model))\n",
    "        println(\"Solution :\")\n",
    "        println(\"A = \",JuMP.value.(A))\n",
    "        println(\"B = \",JuMP.value.(B))\n",
    "        println(\"B_Bis = \",JuMP.value.(B_Bis))\n",
    "        \n",
    "        println(\"Show :\")\n",
    "        for l in 1:buildings_number\n",
    "            println(\"\\t-The building \",l,\" has \",JuMP.value(B_Bis[l]),\" floors.\")\n",
    "            cout = sum(floor_prices[k].*JuMP.value(B[k,l]) for k in 1:building_max_size)\n",
    "            println(\"\\tIt costs \",cout,\"€ to build.\")\n",
    "            for i in 1:clients_number \n",
    "                if JuMP.value(A[i,l])==1\n",
    "                    println(\"\\t\\tClient \",i,\" is in the building \",l)\n",
    "                end\n",
    "            end\n",
    "            gain = sum(clients_gains[i].*JuMP.value(A[i,l]) for i in 1:clients_number)\n",
    "            println(\"\\tThe clients benefits are \",gain,\"€.\")\n",
    "            println(\"\\tThe building \",l,\" give \",gain-cout,\" €.\")    \n",
    "            println()\n",
    "        end\n",
    "        \n",
    "        println(\"The benefits of the project are \", JuMP.objective_value(model),\"€.\")\n",
    "        println(\"drawinf of solution:\")\n",
    "        println()\n",
    "        for l in 1:buildings_number\n",
    "            print(l,\"\\t\")\n",
    "        end\n",
    "        println()\n",
    "        for k in 1:building_max_size\n",
    "            for l in 1:buildings_number\n",
    "                if JuMP.value(B[building_max_size-k+1,l])==0\n",
    "                    print(\".\\t\")\n",
    "                else\n",
    "                    print(\"M\\t\")\n",
    "                end\n",
    "            end\n",
    "            println()\n",
    "        end\n",
    "    end\n",
    "end"
   ]
  },
  {
   "cell_type": "code",
   "execution_count": 8,
   "metadata": {},
   "outputs": [
    {
     "name": "stdout",
     "output_type": "stream",
     "text": [
      "Optimum = 180.0\n",
      "Solution :\n",
      "A = [0.0 0.0 0.0; 0.0 0.0 0.0; 1.0 0.0 0.0; 0.0 0.0 1.0]\n",
      "B = [1.0 0.0 1.0; 1.0 0.0 1.0; 1.0 0.0 1.0; 0.0 0.0 1.0; 0.0 0.0 0.0; 0.0 0.0 0.0; 0.0 0.0 0.0; 0.0 0.0 0.0; 0.0 0.0 0.0]\n",
      "B_Bis = [3.0, 0.0, 4.0]\n",
      "Show :\n",
      "\t-The building 1 has 3.0 floors.\n",
      "\tIt costs 70.0€ to build.\n",
      "\t\tClient 3 is in the building 1\n",
      "\tThe clients benefits are 100.0€.\n",
      "\tThe building 1 give 30.0 €.\n",
      "\n",
      "\t-The building 2 has 0.0 floors.\n",
      "\tIt costs 0.0€ to build.\n",
      "\tThe clients benefits are 0.0€.\n",
      "\tThe building 2 give 0.0 €.\n",
      "\n",
      "\t-The building 3 has 4.0 floors.\n",
      "\tIt costs 150.0€ to build.\n",
      "\t\tClient 4 is in the building 3\n",
      "\tThe clients benefits are 300.0€.\n",
      "\tThe building 3 give 150.0 €.\n",
      "\n",
      "The benefits of the project are 180.0€.\n",
      "drawinf of solution:\n",
      "\n",
      "1\t2\t3\t\n",
      ".\t.\t.\t\n",
      ".\t.\t.\t\n",
      ".\t.\t.\t\n",
      ".\t.\t.\t\n",
      ".\t.\t.\t\n",
      ".\t.\tM\t\n",
      "M\t.\tM\t\n",
      "M\t.\tM\t\n",
      "M\t.\tM\t\n"
     ]
    }
   ],
   "source": [
    "#création d'une instance test du jeu:\n",
    "#nombre d'immeubles\n",
    "buildings_number = 3\n",
    "#nombre de clients\n",
    "clients_number = 4\n",
    "#nombre d'étages pour chaque demande des clients\n",
    "clients_floors = [1 1 3 4]\n",
    "#gains pour chaque demande des clients\n",
    "clients_gains = [5 8 100 300]\n",
    "#taille maximal d'un immeuble = somme des étages de toutes les demandes\n",
    "building_max_size = sum(clients_floors)\n",
    "#prix de construction de chaque étage d'un immeuble\n",
    "#pourra être créé via une fonction\n",
    "floor_prices = [10 20 40 80 160 320 640 1280 2560] \n",
    "\n",
    "skyline_problem(buildings_number,clients_number\n",
    "        ,clients_floors,clients_gains,building_max_size,floor_prices)"
   ]
  },
  {
   "cell_type": "code",
   "execution_count": 9,
   "metadata": {},
   "outputs": [
    {
     "data": {
      "text/plain": [
       "skyline_problem_dynamic_resolution (generic function with 1 method)"
      ]
     },
     "execution_count": 9,
     "metadata": {},
     "output_type": "execute_result"
    }
   ],
   "source": [
    "#algorithm dynamic programmtion\n",
    "\n",
    "#remarque: items commencé à 1 et non à 0\n",
    "function skyline_problem_dynamic_resolution(clients_number,\n",
    "        clients_floors,client_gains,building_max_size)\n",
    "    V = zeros(Int64,building_max_size+1,clients_number)\n",
    "\n",
    "    for k in 1:building_max_size+1 \n",
    "        if  k > clients_floors[1]\n",
    "            V[k,1] = clients_gains[1]\n",
    "        end\n",
    "    end\n",
    "    for k in 1:building_max_size+1     \n",
    "        for i in 2:clients_number\n",
    "            if k <= clients_floors[i]\n",
    "                V[k,i] = V[k,i-1]\n",
    "            else\n",
    "                V[k,i] = max(V[k,i-1],clients_gains[i]+V[k-clients_floors[i],i-1])\n",
    "            end\n",
    "        end\n",
    "    end\n",
    "    print(\"\\t\")\n",
    "    for i in 1:clients_number\n",
    "            print(i,\"\\t\")\n",
    "    end\n",
    "    println()\n",
    "    for k in 1:building_max_size+1\n",
    "        print(k-1,\"\\t\")\n",
    "        for i in 1:clients_number\n",
    "            print(V[k,i],\"\\t\")\n",
    "        end\n",
    "        println()\n",
    "    end\n",
    "    println(\"PATH:\")\n",
    "    k = building_max_size+1\n",
    "    for invi in 1:clients_number-1\n",
    "        i = clients_number - invi +1\n",
    "        println(\"(k,i,V[k,i]) = (\",k-1,\",\",i,\",\",V[k,i],\")\")\n",
    "        if V[k,i] != V[k,i-1]\n",
    "            k = k - clients_floors[i]\n",
    "        end\n",
    "    end\n",
    "    println(\"(k,i,V[k,i]) = (\",k-1,\",\",1,\",\",V[k,1],\")\")\n",
    "end\n",
    "\n",
    "\n"
   ]
  },
  {
   "cell_type": "code",
   "execution_count": 10,
   "metadata": {
    "scrolled": true
   },
   "outputs": [
    {
     "ename": "LoadError",
     "evalue": "UndefVarError: client_gains not defined",
     "output_type": "error",
     "traceback": [
      "UndefVarError: client_gains not defined",
      "",
      "Stacktrace:",
      " [1] top-level scope at In[10]:9",
      " [2] include_string(::Function, ::Module, ::String, ::String) at .\\loading.jl:1091"
     ]
    }
   ],
   "source": [
    "\n",
    "#resolution d'un sac à dos, exo3 TD7 d'OC pour vérification\n",
    "\n",
    "clients_number = 5\n",
    "clients_floors = [7 6 14 7 9]\n",
    "clients_gains = [1 2 5 6 11]\n",
    "building_max_size = sum(clients_floors)\n",
    "\n",
    "skyline_problem_dynamic_resolution(clients_number,\n",
    "        clients_floors,client_gains,15)\n"
   ]
  },
  {
   "cell_type": "code",
   "execution_count": 11,
   "metadata": {
    "scrolled": true
   },
   "outputs": [
    {
     "name": "stdout",
     "output_type": "stream",
     "text": [
      "Optimum = 180.0\n",
      "Solution :\n",
      "A = [1.0 0.0; 0.0 0.0; 0.0 0.0; 0.0 1.0; 0.0 1.0]\n",
      "B = [1.0 1.0; 1.0 1.0; 1.0 1.0; 0.0 1.0; 0.0 0.0; 0.0 0.0; 0.0 0.0; 0.0 0.0; 0.0 0.0; 0.0 0.0; 0.0 0.0; 0.0 0.0; 0.0 0.0]\n",
      "B_Bis = [3.0, 4.0]\n",
      "Show :\n",
      "\t-The building 1 has 3.0 floors.\n",
      "\tIt costs 260.0€ to build.\n",
      "\t\tClient 1 is in the building 1\n",
      "\tThe clients benefits are 350.0€.\n",
      "\tThe building 1 give 90.0 €.\n",
      "\n",
      "\t-The building 2 has 4.0 floors.\n",
      "\tIt costs 360.0€ to build.\n",
      "\t\tClient 4 is in the building 2\n",
      "\t\tClient 5 is in the building 2\n",
      "\tThe clients benefits are 450.0€.\n",
      "\tThe building 2 give 90.0 €.\n",
      "\n",
      "The benefits of the project are 180.0€.\n",
      "drawinf of solution:\n",
      "\n",
      "1\t2\t\n",
      ".\t.\t\n",
      ".\t.\t\n",
      ".\t.\t\n",
      ".\t.\t\n",
      ".\t.\t\n",
      ".\t.\t\n",
      ".\t.\t\n",
      ".\t.\t\n",
      ".\t.\t\n",
      ".\tM\t\n",
      "M\tM\t\n",
      "M\tM\t\n",
      "M\tM\t\n"
     ]
    }
   ],
   "source": [
    "buildings_number = 2\n",
    "clients_number = 5\n",
    "clients_floors = [3 3 3 2 2]\n",
    "clients_gains = [350 300 325 225 225]\n",
    "building_max_size = sum(clients_floors)\n",
    "floor_prices = [80 80 100 100 120 120 140 140 160 160 180 180 200]\n",
    "skyline_problem(buildings_number,clients_number ,clients_floors,clients_gains,building_max_size,floor_prices)\n"
   ]
  },
  {
   "cell_type": "code",
   "execution_count": null,
   "metadata": {},
   "outputs": [],
   "source": []
  }
 ],
 "metadata": {
  "kernelspec": {
   "display_name": "Julia 1.5.3",
   "language": "julia",
   "name": "julia-1.5"
  },
  "language_info": {
   "file_extension": ".jl",
   "mimetype": "application/julia",
   "name": "julia",
   "version": "1.5.3"
  }
 },
 "nbformat": 4,
 "nbformat_minor": 4
}
