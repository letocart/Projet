{
 "cells": [
  {
   "cell_type": "code",
   "execution_count": 56,
   "id": "saving-liver",
   "metadata": {
    "scrolled": false
   },
   "outputs": [
    {
     "data": {
      "text/plain": [
       "resolve (generic function with 1 method)"
      ]
     },
     "execution_count": 56,
     "metadata": {},
     "output_type": "execute_result"
    }
   ],
   "source": [
    "# Librairies à importer pour utiliser JuMP avec le solver GLPK\n",
    "using JuMP\n",
    "using GLPK\n",
    "\n",
    "# Définition de constantes pour le statut de résolution du problème\n",
    "const OPTIMAL = JuMP.MathOptInterface.OPTIMAL\n",
    "const INFEASIBLE = JuMP.MathOptInterface.INFEASIBLE\n",
    "const UNBOUNDED = JuMP.MathOptInterface.DUAL_INFEASIBLE;\n",
    "\n",
    "#V est le tableau qui contient la liste des sommets du graph par leurs positions x, y\n",
    "#S est le teableau qui contient le type du sommet : \n",
    "#    0 : sommet lambda\n",
    "#    1 : sommet obligatoire\n",
    "#    2 : sommet de depart\n",
    "#    3 : sommet d'arrivée\n",
    "#G et la matrice d'adjacence du graph\n",
    "\n",
    "#la function resolve trouve le chemin le plus court sous la forme d'une matrice d'adjacence (orientée)\n",
    "\n",
    "function resolve(V, S, G)\n",
    "    \n",
    "    #hauteur et largeur de la matrice d'adjacence\n",
    "    x = length(G[:,1])\n",
    "    y = length(G[1,:])\n",
    "    \n",
    "    #distance entre les sommets\n",
    "    Distance = zeros(Float64, x, y)\n",
    "    for i in 1:x\n",
    "        for j in 1:y\n",
    "            if (G[i, j] == 0)\n",
    "                Distance[i, j] = 0\n",
    "            else    \n",
    "                Distance[i, j] = hypot(V[i, 1] - V[j, 1], V[i, 2] - V[j, 2])\n",
    "            end\n",
    "        end\n",
    "    end\n",
    "    \n",
    "    nbr = 0\n",
    "    Vstart = 1\n",
    "    Vend = 1\n",
    "    for i in 1:x\n",
    "        if (S[i] == 1)\n",
    "            nbr = nbr + 1\n",
    "        end\n",
    "        if (S[i] == 2)\n",
    "            Vstart = i\n",
    "        end\n",
    "        if (S[i] == 3)\n",
    "            Vend = i\n",
    "        end\n",
    "    end\n",
    "    \n",
    "    # Création d'un modèle. Ce modèle fera l'interface avec le solveur GLPK\n",
    "    m = Model(with_optimizer(GLPK.Optimizer))\n",
    "\n",
    "    # Création des variables : matrice d'adjacence du sous graphe représentant le chemin (graph orienté)\n",
    "    @variable(m, R[1:y,1:x] >= 0, Int)\n",
    "    # Création des variables servant à l'élimination des sous-tours\n",
    "    @variable(m, Z[1:y,1:x] >= 0, Int)\n",
    "   \n",
    "    # Fonction objectif\n",
    "    @objective(m, Min, sum(R .* Distance))\n",
    "   \n",
    "    #Création des contraintes\n",
    "    \n",
    "    #existence des aretes utilisées (ou plutot non utilisation de celles qui n'existent pas) et\n",
    "    #pas le droit de retourner en arriere\n",
    "    for i in 1:x\n",
    "        for j in 1:y\n",
    "            if (G[j, i] == 0)\n",
    "                @constraint(m, R[j, i] == 0)    \n",
    "            elseif (i > j)\n",
    "                @constraint(m, R[j, i] + R[i, j] <= 1)\n",
    "            end\n",
    "        end\n",
    "    end\n",
    "\n",
    "    \n",
    "    for i in 1:x\n",
    "        #sommet de départ : on doit avoir une arete qui en part de plus que le nombre d'arete qui y rentre\n",
    "        if (S[i] == 2)\n",
    "            @constraint(m, sum(R[i, :]) == 1)\n",
    "            @constraint(m, sum(R[:, i]) == 0)\n",
    "        #sommet d'arrivée : on doit avoir une arete qui en part de plus que le nombre d'arete qui y rentre\n",
    "        elseif (S[i] == 3)\n",
    "            @constraint(m, sum(R[:, i]) == 1)\n",
    "            @constraint(m, sum(R[i, :]) == 0)\n",
    "        #sommets obligatoire : on doit avoir autant de sommet qui partent que de somemts qui arrivent\n",
    "        # mais au moins un vu qu'il est obligatoire\n",
    "        elseif (S[i] == 1)\n",
    "            @constraint(m, sum(R[:, i]) == 1)\n",
    "            @constraint(m, sum(R[i, :]) == 1)\n",
    "        #sommets random : on doit avoir autant de sommet qui partent que de somemts qui arrivent\n",
    "        elseif (S[i] == 0)\n",
    "            @constraint(m, sum(R[i, :] - R[:, i]) == 0)\n",
    "        end\n",
    "    end\n",
    "\n",
    "    #contraintes enmpechant la formation de sous-tours\n",
    " \n",
    "    for i in 1:x\n",
    "        if (S[i] == 2)\n",
    "            @constraint(m, sum(Z[i, :]) == nbr + 1)\n",
    "        end\n",
    "        if (S[i] == 3)\n",
    "            @constraint(m, sum(Z[:, i]) == 1)\n",
    "        end\n",
    "        if (S[i] == 1)\n",
    "            @constraint(m, sum(Z[i, :]) + 1 == sum(Z[:, i]))\n",
    "        end\n",
    "        if (S[i] == 0)\n",
    "            @constraint(m, sum(Z[i, :]) == sum(Z[:, i]))\n",
    "        end\n",
    "    end\n",
    "    \n",
    "    for i in 1:x\n",
    "        for j in 1:y\n",
    "            if (i != j && j != Vstart)\n",
    "                @constraint(m, Z[i, j] <= (nbr+1) * (R[i, j]))\n",
    "            end\n",
    "        end\n",
    "    end\n",
    "    \n",
    "    #Affichage du modèle\n",
    "    #print(m)\n",
    "\n",
    "    #Résolution du problème d'optimisation linéaire m par le solveur GLPK\n",
    "    optimize!(m)\n",
    "\n",
    "    status = termination_status(m)\n",
    "\n",
    "    if status == INFEASIBLE\n",
    "        println(\"Le problème n'est pas réalisable\")\n",
    "    elseif status == UNBOUNDED\n",
    "        println(\"Le problème est non borné\")\n",
    "    elseif status == OPTIMAL\n",
    "        println(\"Optimum = \", JuMP.objective_value(m))\n",
    "        println(\"Solution optimale :\")\n",
    "        for i in 1:x\n",
    "            for j in 1:y\n",
    "               print(JuMP.value(R[i, j]), \" \")\n",
    "            end\n",
    "            println()\n",
    "        end\n",
    "#        println(\"Flo :\")\n",
    "#        for i in 1:x\n",
    "#           for j in 1:y\n",
    "#              print(JuMP.value(Z[i, j]), \" \")\n",
    "#          end\n",
    "#           println()\n",
    "#       end\n",
    "    else\n",
    "        println(\"Problème lors de la résolution\")\n",
    "    end\n",
    "end"
   ]
  },
  {
   "cell_type": "code",
   "execution_count": 57,
   "id": "prompt-object",
   "metadata": {},
   "outputs": [
    {
     "name": "stdout",
     "output_type": "stream",
     "text": [
      "Optimum = 8.0\n",
      "Solution optimale :\n",
      "0.0 1.0 0.0 0.0 0.0 \n",
      "0.0 0.0 0.0 0.0 1.0 \n",
      "0.0 0.0 0.0 0.0 0.0 \n",
      "0.0 0.0 0.0 0.0 0.0 \n",
      "0.0 0.0 0.0 0.0 0.0 \n"
     ]
    }
   ],
   "source": [
    "V = [0.0 0.0; 0.0 4.0; 2.0 2.0; 4.0 0.0; 4.0 4.0]\n",
    "S = [2 1 0 0 3]\n",
    "G = [0 1 1 1 0;\n",
    "     1 0 1 0 1;\n",
    "     1 1 0 1 1;\n",
    "     1 0 1 0 1;\n",
    "     0 1 1 1 0]\n",
    "resolve(V, S, G)"
   ]
  },
  {
   "cell_type": "code",
   "execution_count": 58,
   "id": "advanced-providence",
   "metadata": {},
   "outputs": [
    {
     "name": "stdout",
     "output_type": "stream",
     "text": [
      "Optimum = 5.656854249492381\n",
      "Solution optimale :\n",
      "0.0 0.0 1.0 0.0 0.0 \n",
      "0.0 0.0 0.0 0.0 0.0 \n",
      "0.0 0.0 0.0 0.0 1.0 \n",
      "0.0 0.0 0.0 0.0 0.0 \n",
      "0.0 0.0 0.0 0.0 0.0 \n"
     ]
    }
   ],
   "source": [
    "V = [0.0 0.0; 0.0 4.0; 2.0 2.0; 4.0 0.0; 4.0 4.0]\n",
    "S = [2 0 0 0 3]\n",
    "G = [0 1 1 1 0;\n",
    "     1 0 1 0 1;\n",
    "     1 1 0 1 1;\n",
    "     1 0 1 0 1;\n",
    "     0 1 1 1 0]\n",
    "resolve(V, S, G)"
   ]
  },
  {
   "cell_type": "code",
   "execution_count": 59,
   "id": "restricted-artist",
   "metadata": {},
   "outputs": [
    {
     "name": "stdout",
     "output_type": "stream",
     "text": [
      "Optimum = 8.485281374238571\n",
      "Solution optimale :\n",
      "0.0 1.0 0.0 0.0 0.0 \n",
      "0.0 0.0 1.0 0.0 0.0 \n",
      "0.0 0.0 0.0 1.0 0.0 \n",
      "0.0 0.0 0.0 0.0 1.0 \n",
      "0.0 0.0 0.0 0.0 0.0 \n"
     ]
    }
   ],
   "source": [
    "V = [0.0 0.0; 1.0 1.0; 3.0 3.0; 5.0 5.0; 6.0 6.0]\n",
    "S = [2 0 0 0 3]\n",
    "G = [0 1 0 0 0;\n",
    "     1 0 1 0 0;\n",
    "     0 1 0 1 0;\n",
    "     0 0 1 0 1;\n",
    "     0 0 0 1 0]\n",
    "resolve(V, S, G)"
   ]
  },
  {
   "cell_type": "code",
   "execution_count": 60,
   "id": "handed-conditions",
   "metadata": {},
   "outputs": [
    {
     "name": "stdout",
     "output_type": "stream",
     "text": [
      "Optimum = 401.4142135623731\n",
      "Solution optimale :\n",
      "0.0 0.0 0.0 0.0 0.0 0.0 \n",
      "0.0 0.0 1.0 0.0 0.0 0.0 \n",
      "0.0 0.0 0.0 1.0 0.0 0.0 \n",
      "0.0 0.0 0.0 0.0 0.0 0.0 \n",
      "0.0 0.0 0.0 0.0 0.0 1.0 \n",
      "0.0 1.0 0.0 0.0 0.0 0.0 \n"
     ]
    }
   ],
   "source": [
    "V = [202.0 0.0; 200.0 0.0; 2.0 0.0; 0.0 0.0; 1.0 1.0; 201.0 1.0]\n",
    "S = [0 1 0 3 2 1]\n",
    "G = [0 1 0 0 0 1;\n",
    "     1 0 1 0 0 1;\n",
    "     0 1 0 1 1 0;\n",
    "     0 0 1 0 1 0;\n",
    "     0 0 1 1 0 1;\n",
    "     1 1 0 0 1 0]\n",
    "resolve(V, S, G)"
   ]
  }
 ],
 "metadata": {
  "kernelspec": {
   "display_name": "Julia 1.5.3",
   "language": "julia",
   "name": "julia-1.5"
  },
  "language_info": {
   "file_extension": ".jl",
   "mimetype": "application/julia",
   "name": "julia",
   "version": "1.5.3"
  }
 },
 "nbformat": 4,
 "nbformat_minor": 5
}
